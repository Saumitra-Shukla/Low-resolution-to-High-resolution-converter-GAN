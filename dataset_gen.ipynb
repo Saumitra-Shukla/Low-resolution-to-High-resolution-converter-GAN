{
  "nbformat": 4,
  "nbformat_minor": 0,
  "metadata": {
    "colab": {
      "name": "low res to high res GAN.ipynb",
      "version": "0.3.2",
      "provenance": [],
      "collapsed_sections": [],
      "include_colab_link": true
    },
    "kernelspec": {
      "name": "python3",
      "display_name": "Python 3"
    },
    "accelerator": "GPU"
  },
  "cells": [
    {
      "cell_type": "markdown",
      "metadata": {
        "id": "view-in-github",
        "colab_type": "text"
      },
      "source": [
        "<a href=\"https://colab.research.google.com/github/Saumitra-Shukla/Low-resolution-to-High-resolution-converter-GAN/blob/master/dataset_gen.ipynb\" target=\"_parent\"><img src=\"https://colab.research.google.com/assets/colab-badge.svg\" alt=\"Open In Colab\"/></a>"
      ]
    },
    {
      "cell_type": "code",
      "metadata": {
        "id": "NyQnZ3klMc2M",
        "colab_type": "code",
        "outputId": "ead986ca-7ab8-4adf-b393-95dae3575c42",
        "colab": {
          "base_uri": "https://localhost:8080/",
          "height": 124
        }
      },
      "source": [
        "from google.colab import drive\n",
        "drive.mount('/content/drive')"
      ],
      "execution_count": 4,
      "outputs": [
        {
          "output_type": "stream",
          "text": [
            "Go to this URL in a browser: https://accounts.google.com/o/oauth2/auth?client_id=947318989803-6bn6qk8qdgf4n4g3pfee6491hc0brc4i.apps.googleusercontent.com&redirect_uri=urn%3Aietf%3Awg%3Aoauth%3A2.0%3Aoob&scope=email%20https%3A%2F%2Fwww.googleapis.com%2Fauth%2Fdocs.test%20https%3A%2F%2Fwww.googleapis.com%2Fauth%2Fdrive%20https%3A%2F%2Fwww.googleapis.com%2Fauth%2Fdrive.photos.readonly%20https%3A%2F%2Fwww.googleapis.com%2Fauth%2Fpeopleapi.readonly&response_type=code\n",
            "\n",
            "Enter your authorization code:\n",
            "··········\n",
            "Mounted at /content/drive\n"
          ],
          "name": "stdout"
        }
      ]
    },
    {
      "cell_type": "code",
      "metadata": {
        "id": "2AjOHVzc8y9g",
        "colab_type": "code",
        "colab": {}
      },
      "source": [
        ""
      ],
      "execution_count": 0,
      "outputs": []
    },
    {
      "cell_type": "code",
      "metadata": {
        "id": "Gynwl-TZOgay",
        "colab_type": "code",
        "outputId": "08cbb7e4-142d-4390-fcb1-4259e63e26ef",
        "colab": {
          "base_uri": "https://localhost:8080/",
          "height": 52
        }
      },
      "source": [
        "!ls"
      ],
      "execution_count": 30,
      "outputs": [
        {
          "output_type": "stream",
          "text": [
            "DIV2K_train_HR\t\tDIV2K_valid_HR\t\tdrive\n",
            "DIV2K_train_LR_bicubic\tDIV2K_valid_LR_bicubic\n"
          ],
          "name": "stdout"
        }
      ]
    },
    {
      "cell_type": "code",
      "metadata": {
        "id": "GAofvUsZOhvs",
        "colab_type": "code",
        "colab": {}
      },
      "source": [
        "! rm -rf x.pickle"
      ],
      "execution_count": 0,
      "outputs": []
    },
    {
      "cell_type": "code",
      "metadata": {
        "id": "bJbuitFWOmoC",
        "colab_type": "code",
        "colab": {}
      },
      "source": [
        "!ls \"/content/drive/My Drive/machine-learning/dataset\""
      ],
      "execution_count": 0,
      "outputs": []
    },
    {
      "cell_type": "code",
      "metadata": {
        "id": "lXt-xUw0OvQ9",
        "colab_type": "code",
        "outputId": "ccff95ab-d277-4ed1-ea26-c7b68365b49f",
        "colab": {
          "base_uri": "https://localhost:8080/",
          "height": 86
        }
      },
      "source": [
        "import os,subprocess\n",
        "path=\"/content/drive/My Drive/machine-learning/dataset\"\n",
        "for i in os.listdir(path):\n",
        "  nn=os.path.join(path,i)\n",
        "  print(nn)\n",
        "  subprocess.call(['cp' ,nn ,i])\n",
        "  subprocess.call(['unzip' ,i])\n",
        "  subprocess.call(['rm' ,'-rf' ,i])"
      ],
      "execution_count": 5,
      "outputs": [
        {
          "output_type": "stream",
          "text": [
            "/content/drive/My Drive/machine-learning/dataset/DIV2K_train_HR.zip\n",
            "/content/drive/My Drive/machine-learning/dataset/DIV2K_valid_HR.zip\n",
            "/content/drive/My Drive/machine-learning/dataset/DIV2K_train_LR_bicubic_X4.zip\n",
            "/content/drive/My Drive/machine-learning/dataset/DIV2K_valid_LR_bicubic_X4.zip\n"
          ],
          "name": "stdout"
        }
      ]
    },
    {
      "cell_type": "code",
      "metadata": {
        "id": "uIU5RJcUSl_M",
        "colab_type": "code",
        "colab": {}
      },
      "source": [
        "!ls DIV2K_train_LR_bicubic/X4"
      ],
      "execution_count": 0,
      "outputs": []
    },
    {
      "cell_type": "code",
      "metadata": {
        "id": "Gw0MdtUChp5z",
        "colab_type": "code",
        "colab": {}
      },
      "source": [
        "!pip install tf-nightly-gpu-2.0-preview"
      ],
      "execution_count": 0,
      "outputs": []
    },
    {
      "cell_type": "code",
      "metadata": {
        "id": "LXfjneP3UVPJ",
        "colab_type": "code",
        "outputId": "6f8fb0f4-aba9-4409-ef07-acdc599922a4",
        "colab": {
          "base_uri": "https://localhost:8080/",
          "height": 34
        }
      },
      "source": [
        "import numpy as np\n",
        "import matplotlib.pyplot as plt\n",
        "import os\n",
        "import cv2\n",
        "from keras.preprocessing.image import ImageDataGenerator as idg"
      ],
      "execution_count": 1,
      "outputs": [
        {
          "output_type": "stream",
          "text": [
            "Using TensorFlow backend.\n"
          ],
          "name": "stderr"
        }
      ]
    },
    {
      "cell_type": "code",
      "metadata": {
        "id": "NWTDVVfNQZ0F",
        "colab_type": "code",
        "colab": {}
      },
      "source": [
        "gen=idg(rotation_range=10, width_shift_range=0.1, height_shift_range=0.1,\n",
        "                                              shear_range=0.1, zoom_range=0.1,\n",
        "                                             channel_shift_range=10, horizontal_flip=True, vertical_flip=True)"
      ],
      "execution_count": 0,
      "outputs": []
    },
    {
      "cell_type": "code",
      "metadata": {
        "id": "XUXQh_V_aEYW",
        "colab_type": "code",
        "colab": {}
      },
      "source": [
        "def plots(ims,figsize=(12,6),rows=1,interp=False,titles=None):\n",
        "  if type(ims[0]) is np.ndarray:\n",
        "    ims=np.array(ims).astype(np.uint8)\n",
        "    if (ims.shape[-1]!=3):\n",
        "      ims=ims.transpose((0,2,3,1))\n",
        "  f=plt.figure(figsize=figsize)\n",
        "  cols=len(ims)//rows if len(ims) % 2 == 0 else len(ims)//rows +1\n",
        "  for i in range(len(ims)):\n",
        "    sp=f.add_subplot(rows,cols,i+1)\n",
        "    sp.axis('Off')\n",
        "    if titles is not None:\n",
        "      sp.set_title(titles[i],fontsize=16)\n",
        "    plt.imshow(ims[i], interpolation=None if interp else 'none')"
      ],
      "execution_count": 0,
      "outputs": []
    },
    {
      "cell_type": "code",
      "metadata": {
        "id": "k3VlcQwgVA1t",
        "colab_type": "code",
        "colab": {}
      },
      "source": [
        "categ=['HR','LR_bicubic']\n",
        "fl_str='DIV2K_train_'\n",
        "for c in categ:\n",
        "  fl_path=fl_str+c\n",
        "  for img in os.listdir(fl_path):\n",
        "    try:\n",
        "      img_path=os.path.join(fl_path,img)\n",
        "      img_array=cv2.imread(img_path)\n",
        "      plt.imshow(img_array)\n",
        "      plt.show()\n",
        "      aug_iter=gen.flow(np.expand_dims(img_array,0))\n",
        "      for i in range(10):\n",
        "      #aug_img=next(aug_iter)\n",
        "        plots(next(aug_iter)[0].astype(np.uint8),figsize=(28,18),rows=2)\n",
        "        plt.show()\n",
        "    except Exception as e:\n",
        "      continue\n",
        "\n",
        "    break \n",
        "  break"
      ],
      "execution_count": 0,
      "outputs": []
    },
    {
      "cell_type": "code",
      "metadata": {
        "id": "aquiDe7fYBXn",
        "colab_type": "code",
        "colab": {}
      },
      "source": [
        "categ=['HR','LR_bicubic/X4']\n",
        "training_data=[]\n",
        "img_size=1500\n",
        "fl_str='DIV2K_train_'\n",
        "for c in categ:\n",
        "  fl_path=fl_str+c\n",
        "  i=categ.index(c)\n",
        "  for img in os.listdir(fl_path):\n",
        "    try:\n",
        "      img_path=os.path.join(fl_path,img)\n",
        "      img_array=cv2.imread(img_path)\n",
        "      img_array=cv2.resize(img_array,(img_size,img_size))\n",
        "      #aug_iter=gen.flow(np.expand_dims(img_array,0))\n",
        "      training_data.append([img_array,i])\n",
        "      '''\n",
        "      for i in range(10):\n",
        "      #aug_img=next(aug_iter)\n",
        "        #.astype(np.uint8)\n",
        "        training_data.append([next(aug_iter)[0],i])\n",
        "        \n",
        "      #training_data.append([img_array,i])\n",
        "      '''\n",
        "    except Exception as e:\n",
        "      pass"
      ],
      "execution_count": 0,
      "outputs": []
    },
    {
      "cell_type": "code",
      "metadata": {
        "id": "Ro-Uz9_AyVrN",
        "colab_type": "code",
        "colab": {}
      },
      "source": [
        "img=cv2.imread(\"/content/drive/My Drive/machine-learning/dataset/DIV2K_train_LR_bicubic/\")"
      ],
      "execution_count": 0,
      "outputs": []
    },
    {
      "cell_type": "code",
      "metadata": {
        "id": "D6MHHld2bGPX",
        "colab_type": "code",
        "outputId": "43989c73-dbb7-4dfb-8228-a12f2b95a194",
        "colab": {
          "base_uri": "https://localhost:8080/",
          "height": 34
        }
      },
      "source": [
        "print(len(training_data))"
      ],
      "execution_count": 6,
      "outputs": [
        {
          "output_type": "stream",
          "text": [
            "800\n"
          ],
          "name": "stdout"
        }
      ]
    },
    {
      "cell_type": "code",
      "metadata": {
        "id": "X9uZrOKeOa20",
        "colab_type": "code",
        "colab": {}
      },
      "source": [
        "x=[]\n",
        "y=[]\n",
        "for features,label in training_data:\n",
        "    x.append(features)\n",
        "    y.append(label)\n",
        "    \n",
        "#x=np.array(x).reshape(-1,100,100,1)\n",
        "\n"
      ],
      "execution_count": 0,
      "outputs": []
    },
    {
      "cell_type": "code",
      "metadata": {
        "id": "uAzdDwoQWz55",
        "colab_type": "code",
        "colab": {
          "base_uri": "https://localhost:8080/",
          "height": 34
        },
        "outputId": "22d16330-4fa5-4641-9287-90ee894eff36"
      },
      "source": [
        "print(len(y))"
      ],
      "execution_count": 4,
      "outputs": [
        {
          "output_type": "stream",
          "text": [
            "1600\n"
          ],
          "name": "stdout"
        }
      ]
    },
    {
      "cell_type": "code",
      "metadata": {
        "id": "4ts4wDmOWFdR",
        "colab_type": "code",
        "colab": {}
      },
      "source": [
        "\n",
        "import hickle\n",
        "data=[x,y]\n",
        "hickle.dump( data, 'data_file.hkl' )"
      ],
      "execution_count": 0,
      "outputs": []
    },
    {
      "cell_type": "code",
      "metadata": {
        "id": "FevItZFq6div",
        "colab_type": "code",
        "colab": {
          "base_uri": "https://localhost:8080/",
          "height": 52
        },
        "outputId": "99319987-e81b-4700-ced4-a4d2404e485a"
      },
      "source": [
        "!ls"
      ],
      "execution_count": 20,
      "outputs": [
        {
          "output_type": "stream",
          "text": [
            "data_file.hkl  DIV2K_train_HR\t       DIV2K_valid_HR\t       drive\n",
            "data.json      DIV2K_train_LR_bicubic  DIV2K_valid_LR_bicubic\n"
          ],
          "name": "stdout"
        }
      ]
    },
    {
      "cell_type": "code",
      "metadata": {
        "id": "PR4C0aCO6foJ",
        "colab_type": "code",
        "colab": {}
      },
      "source": [
        "!cp data_file.hkl 'drive/My Drive/machine-learning/data_train.hkl'"
      ],
      "execution_count": 0,
      "outputs": []
    }
  ]
}