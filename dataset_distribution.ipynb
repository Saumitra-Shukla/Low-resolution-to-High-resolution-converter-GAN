{
  "nbformat": 4,
  "nbformat_minor": 0,
  "metadata": {
    "colab": {
      "name": "Untitled0.ipynb",
      "version": "0.3.2",
      "provenance": [],
      "include_colab_link": true
    },
    "kernelspec": {
      "name": "python3",
      "display_name": "Python 3"
    }
  },
  "cells": [
    {
      "cell_type": "markdown",
      "metadata": {
        "id": "view-in-github",
        "colab_type": "text"
      },
      "source": [
        "<a href=\"https://colab.research.google.com/github/Saumitra-Shukla/Low-resolution-to-High-resolution-converter-GAN/blob/master/dataset_distribution.ipynb\" target=\"_parent\"><img src=\"https://colab.research.google.com/assets/colab-badge.svg\" alt=\"Open In Colab\"/></a>"
      ]
    },
    {
      "cell_type": "code",
      "metadata": {
        "id": "Ca_KaAAgCjQl",
        "colab_type": "code",
        "colab": {}
      },
      "source": [
        "!rm -rf x*"
      ],
      "execution_count": 0,
      "outputs": []
    },
    {
      "cell_type": "code",
      "metadata": {
        "id": "K9UMwpQACvlt",
        "colab_type": "code",
        "outputId": "0b4020b5-9571-409c-a6ad-d90e626ed1d8",
        "colab": {
          "base_uri": "https://localhost:8080/",
          "height": 124
        }
      },
      "source": [
        "from google.colab import drive\n",
        "drive.mount('/content/drive')"
      ],
      "execution_count": 0,
      "outputs": [
        {
          "output_type": "stream",
          "text": [
            "Go to this URL in a browser: https://accounts.google.com/o/oauth2/auth?client_id=947318989803-6bn6qk8qdgf4n4g3pfee6491hc0brc4i.apps.googleusercontent.com&redirect_uri=urn%3Aietf%3Awg%3Aoauth%3A2.0%3Aoob&scope=email%20https%3A%2F%2Fwww.googleapis.com%2Fauth%2Fdocs.test%20https%3A%2F%2Fwww.googleapis.com%2Fauth%2Fdrive%20https%3A%2F%2Fwww.googleapis.com%2Fauth%2Fdrive.photos.readonly%20https%3A%2F%2Fwww.googleapis.com%2Fauth%2Fpeopleapi.readonly&response_type=code\n",
            "\n",
            "Enter your authorization code:\n",
            "··········\n",
            "Mounted at /content/drive\n"
          ],
          "name": "stdout"
        }
      ]
    },
    {
      "cell_type": "code",
      "metadata": {
        "id": "39pqaX0sD6-O",
        "colab_type": "code",
        "colab": {}
      },
      "source": [
        "!cp \"drive/My Drive/machine-learning/data_train.hkl\" data_train.hkl"
      ],
      "execution_count": 0,
      "outputs": []
    },
    {
      "cell_type": "code",
      "metadata": {
        "id": "ElGpIgNeD7Dl",
        "colab_type": "code",
        "outputId": "9ee025a9-e6a8-457e-c81a-29779a74e0bc",
        "colab": {
          "base_uri": "https://localhost:8080/",
          "height": 34
        }
      },
      "source": [
        "!cp \"drive/My Drive/machine-learning/data_valid.hkl\" data_valid.hkl"
      ],
      "execution_count": 0,
      "outputs": [
        {
          "output_type": "stream",
          "text": [
            "cp: cannot stat 'drive/My Drive/machine-learning/data_valid.hkl': No such file or directory\n"
          ],
          "name": "stdout"
        }
      ]
    },
    {
      "cell_type": "code",
      "metadata": {
        "id": "yewIumNHD64E",
        "colab_type": "code",
        "colab": {}
      },
      "source": [
        "data_valid = hkl.load( 'data_valid.hkl' )"
      ],
      "execution_count": 0,
      "outputs": []
    },
    {
      "cell_type": "code",
      "metadata": {
        "id": "MjqiuPHCFzZF",
        "colab_type": "code",
        "colab": {}
      },
      "source": [
        "\n",
        "import hickle as hkl\n",
        "data_train = hkl.load( 'data_train.hkl' )"
      ],
      "execution_count": 0,
      "outputs": []
    },
    {
      "cell_type": "code",
      "metadata": {
        "id": "SR0hKdFYGKhF",
        "colab_type": "code",
        "colab": {}
      },
      "source": [
        "!split  -b 1GB data_train.hkl"
      ],
      "execution_count": 0,
      "outputs": []
    },
    {
      "cell_type": "code",
      "metadata": {
        "id": "taqAy0sVGK14",
        "colab_type": "code",
        "colab": {}
      },
      "source": [
        "print(data_train[0][0])"
      ],
      "execution_count": 0,
      "outputs": []
    },
    {
      "cell_type": "code",
      "metadata": {
        "id": "RVeWicTCkdKv",
        "colab_type": "code",
        "colab": {}
      },
      "source": [
        "x=[]\n",
        "y=[]\n",
        "for features,label in data_train:\n",
        "    x.append(features)\n",
        "    y.append(label)"
      ],
      "execution_count": 0,
      "outputs": []
    },
    {
      "cell_type": "code",
      "metadata": {
        "id": "vip5E2VEGLLr",
        "colab_type": "code",
        "colab": {}
      },
      "source": [
        "import subprocess\n",
        "j=0\n",
        "i=0\n",
        "c=0\n",
        "x=[]\n",
        "y=[]\n",
        "while j<1600:\n",
        "  i=0\n",
        "  while i<20:\n",
        "    c=i+j\n",
        "    x.append(data_train[0][c])\n",
        "    y.append(data_train[1][c])\n",
        "    i=i+1\n",
        "  data=[x,y]\n",
        "  hkl.dump( data, 'data_train_file%s.hkl' % j )\n",
        "  subprocess.call(['cp','data_train_file%s.hkl' % j,'drive/My Drive/machine-learning/data_train_file/data_train_file%s.hkl' % j])\n",
        "  #subprocess.call(['rm','-rf','data_valid_file%s.hkl' % j])\n",
        "  subprocess.call(['rm','-rf','data_train_file%s.hkl' % j])\n",
        "  j=j+20\n",
        "  data=None\n",
        "  x=[]\n",
        "  y=[]\n",
        "  #print(1)\n",
        "  "
      ],
      "execution_count": 0,
      "outputs": []
    },
    {
      "cell_type": "code",
      "metadata": {
        "id": "ptHonVNGVUbc",
        "colab_type": "code",
        "outputId": "d7327a89-3df7-460f-f652-6b66804b13d8",
        "colab": {
          "base_uri": "https://localhost:8080/",
          "height": 34
        }
      },
      "source": [
        "!ls"
      ],
      "execution_count": 0,
      "outputs": [
        {
          "output_type": "stream",
          "text": [
            "data_train.hkl\tdrive\n"
          ],
          "name": "stdout"
        }
      ]
    },
    {
      "cell_type": "code",
      "metadata": {
        "id": "1zKdqHTMYSaZ",
        "colab_type": "code",
        "colab": {}
      },
      "source": [
        ""
      ],
      "execution_count": 0,
      "outputs": []
    }
  ]
}